{
 "cells": [
  {
   "cell_type": "code",
   "execution_count": 9,
   "id": "725a4299-39e6-4a0b-928d-709fe787e935",
   "metadata": {
    "tags": []
   },
   "outputs": [],
   "source": [
    "#que no.1\n",
    "\n",
    "integer_number= 45\n",
    "\n",
    "floating_point_number = float(integer_number)\n"
   ]
  },
  {
   "cell_type": "code",
   "execution_count": 11,
   "id": "950f057f-676a-4911-8f5c-66195f1aba81",
   "metadata": {
    "tags": []
   },
   "outputs": [
    {
     "name": "stdout",
     "output_type": "stream",
     "text": [
      "45\n"
     ]
    }
   ],
   "source": [
    "print(a)"
   ]
  },
  {
   "cell_type": "code",
   "execution_count": 4,
   "id": "f0dc3ed8-9775-4ba5-a06e-0661529cff3b",
   "metadata": {
    "tags": []
   },
   "outputs": [
    {
     "name": "stdout",
     "output_type": "stream",
     "text": [
      "2\n"
     ]
    }
   ],
   "source": [
    "#que no.2\n",
    "\n",
    "n = 2.2\n",
    "print(int(n))"
   ]
  },
  {
   "cell_type": "code",
   "execution_count": 5,
   "id": "f4ad8fd9-14c4-4885-a001-cb91a5ea393b",
   "metadata": {
    "tags": []
   },
   "outputs": [
    {
     "name": "stdout",
     "output_type": "stream",
     "text": [
      "2\n"
     ]
    }
   ],
   "source": [
    "n = 2\n",
    "print(str(n))"
   ]
  },
  {
   "cell_type": "code",
   "execution_count": 6,
   "id": "cb90fbe6-c9e9-4ab3-a4ef-2fed2e95d632",
   "metadata": {
    "tags": []
   },
   "outputs": [
    {
     "name": "stdout",
     "output_type": "stream",
     "text": [
      "56\n"
     ]
    }
   ],
   "source": [
    "num = 56\n",
    "print(num)"
   ]
  },
  {
   "cell_type": "code",
   "execution_count": 10,
   "id": "f270207a-28ed-41c2-8167-f5fc45e09a6b",
   "metadata": {
    "tags": []
   },
   "outputs": [
    {
     "name": "stdin",
     "output_type": "stream",
     "text": [
      "enter any no 2\n"
     ]
    },
    {
     "name": "stdout",
     "output_type": "stream",
     "text": [
      "<class 'type'>\n",
      "2\n",
      "<class 'type'>\n",
      "<class 'str'>\n"
     ]
    }
   ],
   "source": [
    "#que no.3\n",
    "\n",
    "num = int(input('enter any no'))\n",
    "\n",
    "\n",
    "s = str(num)\n",
    "print(type(str))\n",
    "s = \"%s\" %num\n",
    "print(s)\n",
    "print(type)\n",
    "print(type(s))\n",
    "\n",
    "\n",
    "\n"
   ]
  },
  {
   "cell_type": "code",
   "execution_count": 15,
   "id": "9c8a7f87-11f9-422d-8343-134f60addfe0",
   "metadata": {
    "tags": []
   },
   "outputs": [
    {
     "name": "stdout",
     "output_type": "stream",
     "text": [
      "('1', '2', '3', '4')\n"
     ]
    }
   ],
   "source": [
    "#que no.4\n",
    "\n",
    "\n",
    "l = [\"1\",\"2\",\"3\",\"4\"]\n",
    "l_tuple = tuple(l)\n",
    "print(l_tuple)"
   ]
  },
  {
   "cell_type": "code",
   "execution_count": 1,
   "id": "d7500fba-797b-4118-bf9e-e3fa0488998c",
   "metadata": {},
   "outputs": [
    {
     "name": "stdout",
     "output_type": "stream",
     "text": [
      "[1, 2, 3, 4, 5]\n"
     ]
    }
   ],
   "source": [
    "#que no.5\n",
    "\n",
    "\n",
    "my_tuple = (1, 2, 3, 4, 5)\n",
    "\n",
    "my_list = list(my_tuple)\n",
    "\n",
    "print(my_list)"
   ]
  },
  {
   "cell_type": "code",
   "execution_count": 2,
   "id": "36aec715-1402-4bed-b974-ea38bfb072ad",
   "metadata": {},
   "outputs": [
    {
     "name": "stdout",
     "output_type": "stream",
     "text": [
      "0b1100100\n",
      "00100\n"
     ]
    }
   ],
   "source": [
    "#que no.6\n",
    "\n",
    "decimal_number =100\n",
    "\n",
    "binary_reprecentation = bin(decimal_number)\n",
    "\n",
    "print(binary_reprecentation)\n",
    "\n",
    "print(binary_reprecentation[4:])"
   ]
  },
  {
   "cell_type": "code",
   "execution_count": 3,
   "id": "d57eb3ff-3e55-48d3-8f51-4fb9dddff440",
   "metadata": {
    "tags": []
   },
   "outputs": [
    {
     "name": "stdout",
     "output_type": "stream",
     "text": [
      "True\n"
     ]
    }
   ],
   "source": [
    "#que no.7 \n",
    "\n",
    "number = 6\n",
    "\n",
    "boolean_value = bool(number)\n",
    "\n",
    "print(boolean_value)\n"
   ]
  },
  {
   "cell_type": "code",
   "execution_count": null,
   "id": "1830a666-a809-4b78-ac3b-c82f360b2d7e",
   "metadata": {},
   "outputs": [],
   "source": []
  }
 ],
 "metadata": {
  "kernelspec": {
   "display_name": "Python 3 (ipykernel)",
   "language": "python",
   "name": "python3"
  },
  "language_info": {
   "codemirror_mode": {
    "name": "ipython",
    "version": 3
   },
   "file_extension": ".py",
   "mimetype": "text/x-python",
   "name": "python",
   "nbconvert_exporter": "python",
   "pygments_lexer": "ipython3",
   "version": "3.11.5"
  }
 },
 "nbformat": 4,
 "nbformat_minor": 5
}
